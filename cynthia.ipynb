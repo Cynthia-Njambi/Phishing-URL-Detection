{
 "cells": [
  {
   "cell_type": "markdown",
   "metadata": {},
   "source": [
    "## 1. Business Understanding"
   ]
  },
  {
   "cell_type": "markdown",
   "metadata": {},
   "source": [
    "## 2. Data Understanding\n",
    "##### Step 1: Data Collection and Initial Exploration"
   ]
  },
  {
   "cell_type": "code",
   "execution_count": 1,
   "metadata": {},
   "outputs": [
    {
     "name": "stdout",
     "output_type": "stream",
     "text": [
      "Dataset Shape: (504983, 8)\n",
      "\n",
      "First 5 Rows of the Dataset:\n"
     ]
    },
    {
     "data": {
      "text/html": [
       "<div>\n",
       "<style scoped>\n",
       "    .dataframe tbody tr th:only-of-type {\n",
       "        vertical-align: middle;\n",
       "    }\n",
       "\n",
       "    .dataframe tbody tr th {\n",
       "        vertical-align: top;\n",
       "    }\n",
       "\n",
       "    .dataframe thead th {\n",
       "        text-align: right;\n",
       "    }\n",
       "</style>\n",
       "<table border=\"1\" class=\"dataframe\">\n",
       "  <thead>\n",
       "    <tr style=\"text-align: right;\">\n",
       "      <th></th>\n",
       "      <th>url</th>\n",
       "      <th>target</th>\n",
       "      <th>url_length</th>\n",
       "      <th>hostname_length</th>\n",
       "      <th>tld</th>\n",
       "      <th>num_dots</th>\n",
       "      <th>has_at_symbol</th>\n",
       "      <th>https</th>\n",
       "    </tr>\n",
       "  </thead>\n",
       "  <tbody>\n",
       "    <tr>\n",
       "      <th>0</th>\n",
       "      <td>https://docs.google.com/presentation/d/e/2PACX...</td>\n",
       "      <td>Phishing</td>\n",
       "      <td>178</td>\n",
       "      <td>15</td>\n",
       "      <td>com</td>\n",
       "      <td>3</td>\n",
       "      <td>False</td>\n",
       "      <td>True</td>\n",
       "    </tr>\n",
       "    <tr>\n",
       "      <th>1</th>\n",
       "      <td>https://btttelecommunniccatiion.weeblysite.com/</td>\n",
       "      <td>Phishing</td>\n",
       "      <td>47</td>\n",
       "      <td>38</td>\n",
       "      <td>com</td>\n",
       "      <td>2</td>\n",
       "      <td>False</td>\n",
       "      <td>True</td>\n",
       "    </tr>\n",
       "    <tr>\n",
       "      <th>2</th>\n",
       "      <td>https://kq0hgp.webwave.dev/</td>\n",
       "      <td>Phishing</td>\n",
       "      <td>27</td>\n",
       "      <td>18</td>\n",
       "      <td>dev</td>\n",
       "      <td>2</td>\n",
       "      <td>False</td>\n",
       "      <td>True</td>\n",
       "    </tr>\n",
       "    <tr>\n",
       "      <th>3</th>\n",
       "      <td>https://brittishtele1bt-69836.getresponsesite....</td>\n",
       "      <td>Phishing</td>\n",
       "      <td>50</td>\n",
       "      <td>41</td>\n",
       "      <td>com</td>\n",
       "      <td>2</td>\n",
       "      <td>False</td>\n",
       "      <td>True</td>\n",
       "    </tr>\n",
       "    <tr>\n",
       "      <th>4</th>\n",
       "      <td>https://bt-internet-105056.weeblysite.com/</td>\n",
       "      <td>Phishing</td>\n",
       "      <td>42</td>\n",
       "      <td>33</td>\n",
       "      <td>com</td>\n",
       "      <td>2</td>\n",
       "      <td>False</td>\n",
       "      <td>True</td>\n",
       "    </tr>\n",
       "  </tbody>\n",
       "</table>\n",
       "</div>"
      ],
      "text/plain": [
       "                                                 url    target  url_length  \\\n",
       "0  https://docs.google.com/presentation/d/e/2PACX...  Phishing         178   \n",
       "1    https://btttelecommunniccatiion.weeblysite.com/  Phishing          47   \n",
       "2                        https://kq0hgp.webwave.dev/  Phishing          27   \n",
       "3  https://brittishtele1bt-69836.getresponsesite....  Phishing          50   \n",
       "4         https://bt-internet-105056.weeblysite.com/  Phishing          42   \n",
       "\n",
       "   hostname_length  tld  num_dots  has_at_symbol  https  \n",
       "0               15  com         3          False   True  \n",
       "1               38  com         2          False   True  \n",
       "2               18  dev         2          False   True  \n",
       "3               41  com         2          False   True  \n",
       "4               33  com         2          False   True  "
      ]
     },
     "metadata": {},
     "output_type": "display_data"
    },
    {
     "name": "stdout",
     "output_type": "stream",
     "text": [
      "\n",
      "Data Types and Null Values:\n",
      "<class 'pandas.core.frame.DataFrame'>\n",
      "RangeIndex: 504983 entries, 0 to 504982\n",
      "Data columns (total 8 columns):\n",
      " #   Column           Non-Null Count   Dtype \n",
      "---  ------           --------------   ----- \n",
      " 0   url              504983 non-null  object\n",
      " 1   target           504983 non-null  object\n",
      " 2   url_length       504983 non-null  int64 \n",
      " 3   hostname_length  504983 non-null  int64 \n",
      " 4   tld              504755 non-null  object\n",
      " 5   num_dots         504983 non-null  int64 \n",
      " 6   has_at_symbol    504983 non-null  bool  \n",
      " 7   https            504983 non-null  bool  \n",
      "dtypes: bool(2), int64(3), object(3)\n",
      "memory usage: 24.1+ MB\n"
     ]
    },
    {
     "data": {
      "text/plain": [
       "None"
      ]
     },
     "metadata": {},
     "output_type": "display_data"
    }
   ],
   "source": [
    "import pandas as pd\n",
    "\n",
    "# Load the dataset\n",
    "file_path = 'data/phishing_dataset/phishing_dataset.csv'\n",
    "df = pd.read_csv(file_path)\n",
    "\n",
    "# Display basic information about the dataset\n",
    "print(\"Dataset Shape:\", df.shape)\n",
    "print(\"\\nFirst 5 Rows of the Dataset:\")\n",
    "display(df.head())\n",
    "\n",
    "print(\"\\nData Types and Null Values:\")\n",
    "display(df.info())\n"
   ]
  },
  {
   "cell_type": "markdown",
   "metadata": {},
   "source": [
    "> **Key Insights:**\n",
    "> There are 504,983 rows and 8 columns.\n",
    ">> **Column Definitions**\n",
    ">> - ***url:*** Contains URLs, likely representing the samples. This column is of type object.\n",
    ">> - ***target:*** Appears to be the target variable, with entries indicating whether each URL is phishing or legitimate. This column is also of type object.\n",
    ">> - ***url_length and hostname_length:*** Numerical columns (int64) likely representing the length of the full URL and the hostname, respectively.\n",
    ">> - ***tld:*** Represents the top-level domain of each URL, such as \".com\" or \".org\". This column has a small number of missing values (504,755 non-null out of 504,983).\n",
    ">> - ***num_dots:*** An integer feature that likely counts the number of dots (.) in the URL.\n",
    ">> - ***has_at_symbol and https:*** Boolean columns indicating whether the URL contains an \"@\" symbol and whether it uses HTTPS, respectively."
   ]
  },
  {
   "cell_type": "markdown",
   "metadata": {},
   "source": [
    "##### Step 2: Checking for Missing Values, Unique Values, and Statistical Summaries"
   ]
  },
  {
   "cell_type": "code",
   "execution_count": 2,
   "metadata": {},
   "outputs": [
    {
     "name": "stdout",
     "output_type": "stream",
     "text": [
      "Missing Values per Column:\n"
     ]
    },
    {
     "data": {
      "text/plain": [
       "url                  0\n",
       "target               0\n",
       "url_length           0\n",
       "hostname_length      0\n",
       "tld                228\n",
       "num_dots             0\n",
       "has_at_symbol        0\n",
       "https                0\n",
       "dtype: int64"
      ]
     },
     "metadata": {},
     "output_type": "display_data"
    },
    {
     "name": "stdout",
     "output_type": "stream",
     "text": [
      "\n",
      "Unique Values per Column:\n"
     ]
    },
    {
     "data": {
      "text/plain": [
       "url                504933\n",
       "target                  3\n",
       "url_length            714\n",
       "hostname_length       148\n",
       "tld                  1550\n",
       "num_dots               34\n",
       "has_at_symbol           2\n",
       "https                   2\n",
       "dtype: int64"
      ]
     },
     "metadata": {},
     "output_type": "display_data"
    },
    {
     "name": "stdout",
     "output_type": "stream",
     "text": [
      "\n",
      "Statistical Summary for Numerical Columns:\n"
     ]
    },
    {
     "data": {
      "text/html": [
       "<div>\n",
       "<style scoped>\n",
       "    .dataframe tbody tr th:only-of-type {\n",
       "        vertical-align: middle;\n",
       "    }\n",
       "\n",
       "    .dataframe tbody tr th {\n",
       "        vertical-align: top;\n",
       "    }\n",
       "\n",
       "    .dataframe thead th {\n",
       "        text-align: right;\n",
       "    }\n",
       "</style>\n",
       "<table border=\"1\" class=\"dataframe\">\n",
       "  <thead>\n",
       "    <tr style=\"text-align: right;\">\n",
       "      <th></th>\n",
       "      <th>url_length</th>\n",
       "      <th>hostname_length</th>\n",
       "      <th>num_dots</th>\n",
       "    </tr>\n",
       "  </thead>\n",
       "  <tbody>\n",
       "    <tr>\n",
       "      <th>count</th>\n",
       "      <td>504983.000000</td>\n",
       "      <td>504983.000000</td>\n",
       "      <td>504983.000000</td>\n",
       "    </tr>\n",
       "    <tr>\n",
       "      <th>mean</th>\n",
       "      <td>60.923625</td>\n",
       "      <td>20.030528</td>\n",
       "      <td>2.582043</td>\n",
       "    </tr>\n",
       "    <tr>\n",
       "      <th>std</th>\n",
       "      <td>66.307073</td>\n",
       "      <td>8.636628</td>\n",
       "      <td>1.166853</td>\n",
       "    </tr>\n",
       "    <tr>\n",
       "      <th>min</th>\n",
       "      <td>8.000000</td>\n",
       "      <td>0.000000</td>\n",
       "      <td>0.000000</td>\n",
       "    </tr>\n",
       "    <tr>\n",
       "      <th>25%</th>\n",
       "      <td>39.000000</td>\n",
       "      <td>15.000000</td>\n",
       "      <td>2.000000</td>\n",
       "    </tr>\n",
       "    <tr>\n",
       "      <th>50%</th>\n",
       "      <td>52.000000</td>\n",
       "      <td>19.000000</td>\n",
       "      <td>2.000000</td>\n",
       "    </tr>\n",
       "    <tr>\n",
       "      <th>75%</th>\n",
       "      <td>71.000000</td>\n",
       "      <td>23.000000</td>\n",
       "      <td>3.000000</td>\n",
       "    </tr>\n",
       "    <tr>\n",
       "      <th>max</th>\n",
       "      <td>25523.000000</td>\n",
       "      <td>240.000000</td>\n",
       "      <td>40.000000</td>\n",
       "    </tr>\n",
       "  </tbody>\n",
       "</table>\n",
       "</div>"
      ],
      "text/plain": [
       "          url_length  hostname_length       num_dots\n",
       "count  504983.000000    504983.000000  504983.000000\n",
       "mean       60.923625        20.030528       2.582043\n",
       "std        66.307073         8.636628       1.166853\n",
       "min         8.000000         0.000000       0.000000\n",
       "25%        39.000000        15.000000       2.000000\n",
       "50%        52.000000        19.000000       2.000000\n",
       "75%        71.000000        23.000000       3.000000\n",
       "max     25523.000000       240.000000      40.000000"
      ]
     },
     "metadata": {},
     "output_type": "display_data"
    }
   ],
   "source": [
    "# Count missing values in each column\n",
    "print(\"Missing Values per Column:\")\n",
    "missing_values = df.isnull().sum()\n",
    "display(missing_values)\n",
    "\n",
    "# Count unique values in each column\n",
    "print(\"\\nUnique Values per Column:\")\n",
    "unique_values = df.nunique()\n",
    "display(unique_values)\n",
    "\n",
    "# Statistical summary of numerical columns\n",
    "print(\"\\nStatistical Summary for Numerical Columns:\")\n",
    "display(df.describe())\n"
   ]
  },
  {
   "cell_type": "markdown",
   "metadata": {},
   "source": [
    "> **Key Insights**\n",
    "> - The `tld`(top-level-domain) column has 228 missing values\n",
    "> - The dataset is diverse because `url` column has 504,933 unique URLs\n",
    "> - In the `url_length` column the minimum characters are 8 and the maximum characters are 25,523, indicating that some entries have very long URLs."
   ]
  }
 ],
 "metadata": {
  "kernelspec": {
   "display_name": ".venv",
   "language": "python",
   "name": "python3"
  },
  "language_info": {
   "codemirror_mode": {
    "name": "ipython",
    "version": 3
   },
   "file_extension": ".py",
   "mimetype": "text/x-python",
   "name": "python",
   "nbconvert_exporter": "python",
   "pygments_lexer": "ipython3",
   "version": "3.12.0"
  }
 },
 "nbformat": 4,
 "nbformat_minor": 2
}
