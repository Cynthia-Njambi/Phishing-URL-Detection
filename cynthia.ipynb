{
 "cells": [
  {
   "cell_type": "markdown",
   "metadata": {},
   "source": [
    "## 1. Business Understanding"
   ]
  },
  {
   "cell_type": "markdown",
   "metadata": {},
   "source": [
    "## 2. Data Understanding\n",
    "#### Step 1: Data Collection and Initial Exploration"
   ]
  },
  {
   "cell_type": "code",
   "execution_count": 1,
   "metadata": {},
   "outputs": [
    {
     "name": "stdout",
     "output_type": "stream",
     "text": [
      "Dataset Shape: (504983, 8)\n",
      "\n",
      "First 5 Rows of the Dataset:\n"
     ]
    },
    {
     "data": {
      "text/html": [
       "<div>\n",
       "<style scoped>\n",
       "    .dataframe tbody tr th:only-of-type {\n",
       "        vertical-align: middle;\n",
       "    }\n",
       "\n",
       "    .dataframe tbody tr th {\n",
       "        vertical-align: top;\n",
       "    }\n",
       "\n",
       "    .dataframe thead th {\n",
       "        text-align: right;\n",
       "    }\n",
       "</style>\n",
       "<table border=\"1\" class=\"dataframe\">\n",
       "  <thead>\n",
       "    <tr style=\"text-align: right;\">\n",
       "      <th></th>\n",
       "      <th>url</th>\n",
       "      <th>target</th>\n",
       "      <th>url_length</th>\n",
       "      <th>hostname_length</th>\n",
       "      <th>tld</th>\n",
       "      <th>num_dots</th>\n",
       "      <th>has_at_symbol</th>\n",
       "      <th>https</th>\n",
       "    </tr>\n",
       "  </thead>\n",
       "  <tbody>\n",
       "    <tr>\n",
       "      <th>0</th>\n",
       "      <td>https://docs.google.com/presentation/d/e/2PACX...</td>\n",
       "      <td>Phishing</td>\n",
       "      <td>178</td>\n",
       "      <td>15</td>\n",
       "      <td>com</td>\n",
       "      <td>3</td>\n",
       "      <td>False</td>\n",
       "      <td>True</td>\n",
       "    </tr>\n",
       "    <tr>\n",
       "      <th>1</th>\n",
       "      <td>https://btttelecommunniccatiion.weeblysite.com/</td>\n",
       "      <td>Phishing</td>\n",
       "      <td>47</td>\n",
       "      <td>38</td>\n",
       "      <td>com</td>\n",
       "      <td>2</td>\n",
       "      <td>False</td>\n",
       "      <td>True</td>\n",
       "    </tr>\n",
       "    <tr>\n",
       "      <th>2</th>\n",
       "      <td>https://kq0hgp.webwave.dev/</td>\n",
       "      <td>Phishing</td>\n",
       "      <td>27</td>\n",
       "      <td>18</td>\n",
       "      <td>dev</td>\n",
       "      <td>2</td>\n",
       "      <td>False</td>\n",
       "      <td>True</td>\n",
       "    </tr>\n",
       "    <tr>\n",
       "      <th>3</th>\n",
       "      <td>https://brittishtele1bt-69836.getresponsesite....</td>\n",
       "      <td>Phishing</td>\n",
       "      <td>50</td>\n",
       "      <td>41</td>\n",
       "      <td>com</td>\n",
       "      <td>2</td>\n",
       "      <td>False</td>\n",
       "      <td>True</td>\n",
       "    </tr>\n",
       "    <tr>\n",
       "      <th>4</th>\n",
       "      <td>https://bt-internet-105056.weeblysite.com/</td>\n",
       "      <td>Phishing</td>\n",
       "      <td>42</td>\n",
       "      <td>33</td>\n",
       "      <td>com</td>\n",
       "      <td>2</td>\n",
       "      <td>False</td>\n",
       "      <td>True</td>\n",
       "    </tr>\n",
       "  </tbody>\n",
       "</table>\n",
       "</div>"
      ],
      "text/plain": [
       "                                                 url    target  url_length  \\\n",
       "0  https://docs.google.com/presentation/d/e/2PACX...  Phishing         178   \n",
       "1    https://btttelecommunniccatiion.weeblysite.com/  Phishing          47   \n",
       "2                        https://kq0hgp.webwave.dev/  Phishing          27   \n",
       "3  https://brittishtele1bt-69836.getresponsesite....  Phishing          50   \n",
       "4         https://bt-internet-105056.weeblysite.com/  Phishing          42   \n",
       "\n",
       "   hostname_length  tld  num_dots  has_at_symbol  https  \n",
       "0               15  com         3          False   True  \n",
       "1               38  com         2          False   True  \n",
       "2               18  dev         2          False   True  \n",
       "3               41  com         2          False   True  \n",
       "4               33  com         2          False   True  "
      ]
     },
     "metadata": {},
     "output_type": "display_data"
    },
    {
     "name": "stdout",
     "output_type": "stream",
     "text": [
      "\n",
      "Data Types and Null Values:\n",
      "<class 'pandas.core.frame.DataFrame'>\n",
      "RangeIndex: 504983 entries, 0 to 504982\n",
      "Data columns (total 8 columns):\n",
      " #   Column           Non-Null Count   Dtype \n",
      "---  ------           --------------   ----- \n",
      " 0   url              504983 non-null  object\n",
      " 1   target           504983 non-null  object\n",
      " 2   url_length       504983 non-null  int64 \n",
      " 3   hostname_length  504983 non-null  int64 \n",
      " 4   tld              504755 non-null  object\n",
      " 5   num_dots         504983 non-null  int64 \n",
      " 6   has_at_symbol    504983 non-null  bool  \n",
      " 7   https            504983 non-null  bool  \n",
      "dtypes: bool(2), int64(3), object(3)\n",
      "memory usage: 24.1+ MB\n"
     ]
    },
    {
     "data": {
      "text/plain": [
       "None"
      ]
     },
     "metadata": {},
     "output_type": "display_data"
    }
   ],
   "source": [
    "import pandas as pd\n",
    "\n",
    "# Load the dataset\n",
    "file_path = 'data/phishing_dataset/phishing_dataset.csv'\n",
    "df = pd.read_csv(file_path)\n",
    "\n",
    "# Display basic information about the dataset\n",
    "print(\"Dataset Shape:\", df.shape)\n",
    "print(\"\\nFirst 5 Rows of the Dataset:\")\n",
    "display(df.head())\n",
    "\n",
    "print(\"\\nData Types and Null Values:\")\n",
    "display(df.info())\n"
   ]
  },
  {
   "cell_type": "markdown",
   "metadata": {},
   "source": [
    "> **Key Insights:**\n",
    "> There are 504,983 rows and 8 columns.\n",
    ">> **Column Definitions**\n",
    ">> - ***url:*** Contains URLs, likely representing the samples. This column is of type object.\n",
    ">> - ***target:*** Appears to be the target variable, with entries indicating whether each URL is phishing or legitimate. This column is also of type object.\n",
    ">> - ***url_length and hostname_length:*** Numerical columns (int64) likely representing the length of the full URL and the hostname, respectively.\n",
    ">> - ***tld:*** Represents the top-level domain of each URL, such as \".com\" or \".org\". This column has a small number of missing values (504,755 non-null out of 504,983).\n",
    ">> - ***num_dots:*** An integer feature that likely counts the number of dots (.) in the URL.\n",
    ">> - ***has_at_symbol and https:*** Boolean columns indicating whether the URL contains an \"@\" symbol and whether it uses HTTPS, respectively."
   ]
  },
  {
   "cell_type": "markdown",
   "metadata": {},
   "source": []
  }
 ],
 "metadata": {
  "kernelspec": {
   "display_name": ".venv",
   "language": "python",
   "name": "python3"
  },
  "language_info": {
   "codemirror_mode": {
    "name": "ipython",
    "version": 3
   },
   "file_extension": ".py",
   "mimetype": "text/x-python",
   "name": "python",
   "nbconvert_exporter": "python",
   "pygments_lexer": "ipython3",
   "version": "3.12.0"
  }
 },
 "nbformat": 4,
 "nbformat_minor": 2
}
