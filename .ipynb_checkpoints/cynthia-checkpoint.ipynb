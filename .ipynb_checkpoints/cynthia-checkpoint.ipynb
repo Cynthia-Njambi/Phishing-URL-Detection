{
 "cells": [
  {
   "cell_type": "markdown",
   "metadata": {},
   "source": [
    "## 1. Business Understanding"
   ]
  },
  {
   "cell_type": "markdown",
   "metadata": {},
   "source": [
    "## 2. Data Understanding\n",
    "##### Step 1: Data Collection and Initial Exploration"
   ]
  },
  {
   "cell_type": "code",
   "execution_count": 1,
   "metadata": {},
   "outputs": [
    {
     "name": "stdout",
     "output_type": "stream",
     "text": [
      "Dataset Shape: (504983, 8)\n",
      "\n",
      "First 5 Rows of the Dataset:\n"
     ]
    },
    {
     "data": {
      "text/html": [
       "<div>\n",
       "<style scoped>\n",
       "    .dataframe tbody tr th:only-of-type {\n",
       "        vertical-align: middle;\n",
       "    }\n",
       "\n",
       "    .dataframe tbody tr th {\n",
       "        vertical-align: top;\n",
       "    }\n",
       "\n",
       "    .dataframe thead th {\n",
       "        text-align: right;\n",
       "    }\n",
       "</style>\n",
       "<table border=\"1\" class=\"dataframe\">\n",
       "  <thead>\n",
       "    <tr style=\"text-align: right;\">\n",
       "      <th></th>\n",
       "      <th>url</th>\n",
       "      <th>target</th>\n",
       "      <th>url_length</th>\n",
       "      <th>hostname_length</th>\n",
       "      <th>tld</th>\n",
       "      <th>num_dots</th>\n",
       "      <th>has_at_symbol</th>\n",
       "      <th>https</th>\n",
       "    </tr>\n",
       "  </thead>\n",
       "  <tbody>\n",
       "    <tr>\n",
       "      <th>0</th>\n",
       "      <td>https://docs.google.com/presentation/d/e/2PACX...</td>\n",
       "      <td>Phishing</td>\n",
       "      <td>178</td>\n",
       "      <td>15</td>\n",
       "      <td>com</td>\n",
       "      <td>3</td>\n",
       "      <td>False</td>\n",
       "      <td>True</td>\n",
       "    </tr>\n",
       "    <tr>\n",
       "      <th>1</th>\n",
       "      <td>https://btttelecommunniccatiion.weeblysite.com/</td>\n",
       "      <td>Phishing</td>\n",
       "      <td>47</td>\n",
       "      <td>38</td>\n",
       "      <td>com</td>\n",
       "      <td>2</td>\n",
       "      <td>False</td>\n",
       "      <td>True</td>\n",
       "    </tr>\n",
       "    <tr>\n",
       "      <th>2</th>\n",
       "      <td>https://kq0hgp.webwave.dev/</td>\n",
       "      <td>Phishing</td>\n",
       "      <td>27</td>\n",
       "      <td>18</td>\n",
       "      <td>dev</td>\n",
       "      <td>2</td>\n",
       "      <td>False</td>\n",
       "      <td>True</td>\n",
       "    </tr>\n",
       "    <tr>\n",
       "      <th>3</th>\n",
       "      <td>https://brittishtele1bt-69836.getresponsesite....</td>\n",
       "      <td>Phishing</td>\n",
       "      <td>50</td>\n",
       "      <td>41</td>\n",
       "      <td>com</td>\n",
       "      <td>2</td>\n",
       "      <td>False</td>\n",
       "      <td>True</td>\n",
       "    </tr>\n",
       "    <tr>\n",
       "      <th>4</th>\n",
       "      <td>https://bt-internet-105056.weeblysite.com/</td>\n",
       "      <td>Phishing</td>\n",
       "      <td>42</td>\n",
       "      <td>33</td>\n",
       "      <td>com</td>\n",
       "      <td>2</td>\n",
       "      <td>False</td>\n",
       "      <td>True</td>\n",
       "    </tr>\n",
       "  </tbody>\n",
       "</table>\n",
       "</div>"
      ],
      "text/plain": [
       "                                                 url    target  url_length  \\\n",
       "0  https://docs.google.com/presentation/d/e/2PACX...  Phishing         178   \n",
       "1    https://btttelecommunniccatiion.weeblysite.com/  Phishing          47   \n",
       "2                        https://kq0hgp.webwave.dev/  Phishing          27   \n",
       "3  https://brittishtele1bt-69836.getresponsesite....  Phishing          50   \n",
       "4         https://bt-internet-105056.weeblysite.com/  Phishing          42   \n",
       "\n",
       "   hostname_length  tld  num_dots  has_at_symbol  https  \n",
       "0               15  com         3          False   True  \n",
       "1               38  com         2          False   True  \n",
       "2               18  dev         2          False   True  \n",
       "3               41  com         2          False   True  \n",
       "4               33  com         2          False   True  "
      ]
     },
     "metadata": {},
     "output_type": "display_data"
    },
    {
     "name": "stdout",
     "output_type": "stream",
     "text": [
      "\n",
      "Data Types and Null Values:\n",
      "<class 'pandas.core.frame.DataFrame'>\n",
      "RangeIndex: 504983 entries, 0 to 504982\n",
      "Data columns (total 8 columns):\n",
      " #   Column           Non-Null Count   Dtype \n",
      "---  ------           --------------   ----- \n",
      " 0   url              504983 non-null  object\n",
      " 1   target           504983 non-null  object\n",
      " 2   url_length       504983 non-null  int64 \n",
      " 3   hostname_length  504983 non-null  int64 \n",
      " 4   tld              504755 non-null  object\n",
      " 5   num_dots         504983 non-null  int64 \n",
      " 6   has_at_symbol    504983 non-null  bool  \n",
      " 7   https            504983 non-null  bool  \n",
      "dtypes: bool(2), int64(3), object(3)\n",
      "memory usage: 24.1+ MB\n"
     ]
    },
    {
     "data": {
      "text/plain": [
       "None"
      ]
     },
     "metadata": {},
     "output_type": "display_data"
    }
   ],
   "source": [
    "import pandas as pd\n",
    "\n",
    "# Load the dataset\n",
    "file_path = 'data/phishing_dataset/phishing_dataset.csv'\n",
    "df = pd.read_csv(file_path)\n",
    "\n",
    "# Display basic information about the dataset\n",
    "print(\"Dataset Shape:\", df.shape)\n",
    "print(\"\\nFirst 5 Rows of the Dataset:\")\n",
    "display(df.head())\n",
    "\n",
    "print(\"\\nData Types and Null Values:\")\n",
    "display(df.info())\n"
   ]
  },
  {
   "cell_type": "markdown",
   "metadata": {},
   "source": [
    "> **Key Insights:**\n",
    "> There are 504,983 rows and 8 columns.\n",
    ">> **Column Definitions**\n",
    ">> - ***url:*** Contains URLs, likely representing the samples. This column is of type object.\n",
    ">> - ***target:*** Appears to be the target variable, with entries indicating whether each URL is phishing or legitimate. This column is also of type object.\n",
    ">> - ***url_length and hostname_length:*** Numerical columns (int64) likely representing the length of the full URL and the hostname, respectively.\n",
    ">> - ***tld:*** Represents the top-level domain of each URL, such as \".com\" or \".org\". This column has a small number of missing values (504,755 non-null out of 504,983).\n",
    ">> - ***num_dots:*** An integer feature that likely counts the number of dots (.) in the URL.\n",
    ">> - ***has_at_symbol and https:*** Boolean columns indicating whether the URL contains an \"@\" symbol and whether it uses HTTPS, respectively."
   ]
  },
  {
   "cell_type": "markdown",
   "metadata": {},
   "source": [
    "##### Step 2: Checking for Missing Values, Unique Values, and Statistical Summaries"
   ]
  },
  {
   "cell_type": "code",
   "execution_count": 2,
   "metadata": {},
   "outputs": [
    {
     "name": "stdout",
     "output_type": "stream",
     "text": [
      "Missing Values per Column:\n"
     ]
    },
    {
     "data": {
      "text/plain": [
       "url                  0\n",
       "target               0\n",
       "url_length           0\n",
       "hostname_length      0\n",
       "tld                228\n",
       "num_dots             0\n",
       "has_at_symbol        0\n",
       "https                0\n",
       "dtype: int64"
      ]
     },
     "metadata": {},
     "output_type": "display_data"
    },
    {
     "name": "stdout",
     "output_type": "stream",
     "text": [
      "\n",
      "Unique Values per Column:\n"
     ]
    },
    {
     "data": {
      "text/plain": [
       "url                504933\n",
       "target                  3\n",
       "url_length            714\n",
       "hostname_length       148\n",
       "tld                  1550\n",
       "num_dots               34\n",
       "has_at_symbol           2\n",
       "https                   2\n",
       "dtype: int64"
      ]
     },
     "metadata": {},
     "output_type": "display_data"
    },
    {
     "name": "stdout",
     "output_type": "stream",
     "text": [
      "\n",
      "Statistical Summary for Numerical Columns:\n"
     ]
    },
    {
     "data": {
      "text/html": [
       "<div>\n",
       "<style scoped>\n",
       "    .dataframe tbody tr th:only-of-type {\n",
       "        vertical-align: middle;\n",
       "    }\n",
       "\n",
       "    .dataframe tbody tr th {\n",
       "        vertical-align: top;\n",
       "    }\n",
       "\n",
       "    .dataframe thead th {\n",
       "        text-align: right;\n",
       "    }\n",
       "</style>\n",
       "<table border=\"1\" class=\"dataframe\">\n",
       "  <thead>\n",
       "    <tr style=\"text-align: right;\">\n",
       "      <th></th>\n",
       "      <th>url_length</th>\n",
       "      <th>hostname_length</th>\n",
       "      <th>num_dots</th>\n",
       "    </tr>\n",
       "  </thead>\n",
       "  <tbody>\n",
       "    <tr>\n",
       "      <th>count</th>\n",
       "      <td>504983.000000</td>\n",
       "      <td>504983.000000</td>\n",
       "      <td>504983.000000</td>\n",
       "    </tr>\n",
       "    <tr>\n",
       "      <th>mean</th>\n",
       "      <td>60.923625</td>\n",
       "      <td>20.030528</td>\n",
       "      <td>2.582043</td>\n",
       "    </tr>\n",
       "    <tr>\n",
       "      <th>std</th>\n",
       "      <td>66.307073</td>\n",
       "      <td>8.636628</td>\n",
       "      <td>1.166853</td>\n",
       "    </tr>\n",
       "    <tr>\n",
       "      <th>min</th>\n",
       "      <td>8.000000</td>\n",
       "      <td>0.000000</td>\n",
       "      <td>0.000000</td>\n",
       "    </tr>\n",
       "    <tr>\n",
       "      <th>25%</th>\n",
       "      <td>39.000000</td>\n",
       "      <td>15.000000</td>\n",
       "      <td>2.000000</td>\n",
       "    </tr>\n",
       "    <tr>\n",
       "      <th>50%</th>\n",
       "      <td>52.000000</td>\n",
       "      <td>19.000000</td>\n",
       "      <td>2.000000</td>\n",
       "    </tr>\n",
       "    <tr>\n",
       "      <th>75%</th>\n",
       "      <td>71.000000</td>\n",
       "      <td>23.000000</td>\n",
       "      <td>3.000000</td>\n",
       "    </tr>\n",
       "    <tr>\n",
       "      <th>max</th>\n",
       "      <td>25523.000000</td>\n",
       "      <td>240.000000</td>\n",
       "      <td>40.000000</td>\n",
       "    </tr>\n",
       "  </tbody>\n",
       "</table>\n",
       "</div>"
      ],
      "text/plain": [
       "          url_length  hostname_length       num_dots\n",
       "count  504983.000000    504983.000000  504983.000000\n",
       "mean       60.923625        20.030528       2.582043\n",
       "std        66.307073         8.636628       1.166853\n",
       "min         8.000000         0.000000       0.000000\n",
       "25%        39.000000        15.000000       2.000000\n",
       "50%        52.000000        19.000000       2.000000\n",
       "75%        71.000000        23.000000       3.000000\n",
       "max     25523.000000       240.000000      40.000000"
      ]
     },
     "metadata": {},
     "output_type": "display_data"
    }
   ],
   "source": [
    "# Count missing values in each column\n",
    "print(\"Missing Values per Column:\")\n",
    "missing_values = df.isnull().sum()\n",
    "display(missing_values)\n",
    "\n",
    "# Count unique values in each column\n",
    "print(\"\\nUnique Values per Column:\")\n",
    "unique_values = df.nunique()\n",
    "display(unique_values)\n",
    "\n",
    "# Statistical summary of numerical columns\n",
    "print(\"\\nStatistical Summary for Numerical Columns:\")\n",
    "display(df.describe())\n"
   ]
  },
  {
   "cell_type": "markdown",
   "metadata": {},
   "source": [
    "> **Key Insights**\n",
    "> - The `tld`(top-level-domain) column has 228 missing values\n",
    "> - The dataset is diverse because `url` column has 504,933 unique URLs\n",
    "> - In the `url_length` column the minimum characters are 8 and the maximum characters are 25,523, indicating that some entries have very long URLs."
   ]
  },
  {
   "cell_type": "markdown",
   "metadata": {},
   "source": [
    "## 3. Data Preparation\n",
    "##### Step 1: Data Preprocessing"
   ]
  },
  {
   "cell_type": "code",
   "execution_count": 4,
   "metadata": {},
   "outputs": [
    {
     "name": "stderr",
     "output_type": "stream",
     "text": [
      "C:\\Users\\Administrator\\AppData\\Local\\Temp\\ipykernel_15680\\1026951787.py:5: FutureWarning: A value is trying to be set on a copy of a DataFrame or Series through chained assignment using an inplace method.\n",
      "The behavior will change in pandas 3.0. This inplace method will never work because the intermediate object on which we are setting values always behaves as a copy.\n",
      "\n",
      "For example, when doing 'df[col].method(value, inplace=True)', try using 'df.method({col: value}, inplace=True)' or df[col] = df[col].method(value) instead, to perform the operation inplace on the original object.\n",
      "\n",
      "\n",
      "  df['tld'].fillna('unknown', inplace=True)\n"
     ]
    },
    {
     "name": "stdout",
     "output_type": "stream",
     "text": [
      "Training set shape: (403986, 7)\n",
      "Test set shape: (100997, 7)\n"
     ]
    }
   ],
   "source": [
    "from sklearn.model_selection import train_test_split\n",
    "from sklearn.preprocessing import LabelEncoder\n",
    "\n",
    "# Handle missing values - fill with a placeholder or drop if appropriate\n",
    "df['tld'].fillna('unknown', inplace=True)\n",
    "\n",
    "# Encode the target variable\n",
    "label_encoder = LabelEncoder()\n",
    "df['target'] = label_encoder.fit_transform(df['target'])\n",
    "\n",
    "# Split features and target variable\n",
    "X = df.drop(columns=['target'])\n",
    "y = df['target']\n",
    "\n",
    "# Split the dataset into training and testing sets (80% train, 20% test)\n",
    "X_train, X_test, y_train, y_test = train_test_split(X, y, test_size=0.2, random_state=42)\n",
    "\n",
    "print(\"Training set shape:\", X_train.shape)\n",
    "print(\"Test set shape:\", X_test.shape)\n"
   ]
  },
  {
   "cell_type": "markdown",
   "metadata": {},
   "source": [
    "> **Key Insights:**\n",
    "> - Training and Test Set Shapes:\n",
    ">> - The training set contains 403,986 samples and 7 features.\n",
    ">> - The test set contains 100,997 samples and 7 features."
   ]
  },
  {
   "cell_type": "markdown",
   "metadata": {},
   "source": [
    "##### Step 2: Exploratory Data Analysis (EDA)"
   ]
  },
  {
   "cell_type": "code",
   "execution_count": 6,
   "metadata": {},
   "outputs": [
    {
     "data": {
      "image/png": "[encoded data removed]",
      "text/plain": [
       "<Figure size 800x500 with 1 Axes>"
      ]
     },
     "metadata": {},
     "output_type": "display_data"
    },
    {
     "name": "stdout",
     "output_type": "stream",
     "text": [
      "\n",
      "Count of Target Classes:\n",
      "target\n",
      "1    345738\n",
      "2    104438\n",
      "0     54807\n",
      "Name: count, dtype: int64\n",
      "\n",
      "Summary Statistics for URL Length by Target Variable:\n",
      "           count       mean         std   min   25%   50%   75%      max\n",
      "target                                                                  \n",
      "0        54807.0  66.556480  169.940693  14.0  33.0  45.0  84.0  25523.0\n",
      "1       345738.0  58.481443   25.532656  15.0  42.0  53.0  70.0    651.0\n",
      "2       104438.0  66.052366   62.310706   8.0  35.0  50.0  73.0   2314.0\n"
     ]
    },
    {
     "data": {
      "image/png": "[encoded data removed]",
      "text/plain": [
       "<Figure size 1000x600 with 1 Axes>"
      ]
     },
     "metadata": {},
     "output_type": "display_data"
    },
    {
     "name": "stdout",
     "output_type": "stream",
     "text": [
      "\n",
      "Summary Statistics for Hostname Length by Target Variable:\n",
      "           count       mean        std  min   25%   50%   75%    max\n",
      "target                                                              \n",
      "0        54807.0  26.069097  16.697832  4.0  15.0  21.0  30.0  102.0\n",
      "1       345738.0  19.617858   5.854038  5.0  15.0  19.0  23.0   75.0\n",
      "2       104438.0  18.227733   8.829152  0.0  13.0  17.0  21.0  240.0\n"
     ]
    },
    {
     "data": {
      "image/png": "[encoded data removed]",
      "text/plain": [
       "<Figure size 1000x600 with 1 Axes>"
      ]
     },
     "metadata": {},
     "output_type": "display_data"
    }
   ],
   "source": [
    "import matplotlib.pyplot as plt\n",
    "import seaborn as sns\n",
    "\n",
    "# 1. Distribution of the target variable\n",
    "plt.figure(figsize=(8, 5))\n",
    "sns.countplot(data=df, x='target')\n",
    "plt.title('Distribution of Target Variable')\n",
    "plt.xlabel('Target (0: Legitimate, 1: Phishing)')\n",
    "plt.ylabel('Count')\n",
    "plt.show()\n",
    "\n",
    "# Print the count of each class in the target variable\n",
    "target_counts = df['target'].value_counts()\n",
    "print(\"\\nCount of Target Classes:\")\n",
    "print(target_counts)\n",
    "\n",
    "# 2. Summary statistics for URL length grouped by target variable\n",
    "url_length_summary = df.groupby('target')['url_length'].describe()\n",
    "print(\"\\nSummary Statistics for URL Length by Target Variable:\")\n",
    "print(url_length_summary)\n",
    "\n",
    "# Relationship between URL length and target\n",
    "plt.figure(figsize=(10, 6))\n",
    "sns.boxplot(data=df, x='target', y='url_length')\n",
    "plt.title('URL Length vs. Target Variable')\n",
    "plt.xlabel('Target (0: Legitimate, 1: Phishing)')\n",
    "plt.ylabel('URL Length')\n",
    "plt.show()\n",
    "\n",
    "# 3. Summary statistics for hostname length grouped by target variable\n",
    "hostname_length_summary = df.groupby('target')['hostname_length'].describe()\n",
    "print(\"\\nSummary Statistics for Hostname Length by Target Variable:\")\n",
    "print(hostname_length_summary)\n",
    "\n",
    "# Relationship between hostname length and target\n",
    "plt.figure(figsize=(10, 6))\n",
    "sns.boxplot(data=df, x='target', y='hostname_length')\n",
    "plt.title('Hostname Length vs. Target Variable')\n",
    "plt.xlabel('Target (0: Legitimate, 1: Phishing)')\n",
    "plt.ylabel('Hostname Length')\n",
    "plt.show()\n",
    "\n"
   ]
  },
  {
   "cell_type": "markdown",
   "metadata": {},
   "source": [
    "> **Key Insights:** \n",
    "> - There are  ***345,738*** instances of phishing URLs, ***54,807*** instances of legitimate URLs & ***104,438*** instances of unknown category.\n",
    "> - The mean hostname length for legitimate URLs `0` is higher than that of phishing URLs `1`.\n",
    "> - The standard deviation is also larger for legitimate URLs, indicating more variability in their lengths."
   ]
  }
 ],
 "metadata": {
  "kernelspec": {
   "display_name": "Python 3 (ipykernel)",
   "language": "python",
   "name": "python3"
  },
  "language_info": {
   "codemirror_mode": {
    "name": "ipython",
    "version": 3
   },
   "file_extension": ".py",
   "mimetype": "text/x-python",
   "name": "python",
   "nbconvert_exporter": "python",
   "pygments_lexer": "ipython3",
   "version": "3.8.12"
  }
 },
 "nbformat": 4,
 "nbformat_minor": 2
}
